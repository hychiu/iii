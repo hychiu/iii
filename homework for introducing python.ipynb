{
 "cells": [
  {
   "cell_type": "markdown",
   "metadata": {},
   "source": [
    "# ch2"
   ]
  },
  {
   "cell_type": "raw",
   "metadata": {},
   "source": [
    "Things to Do\n",
    "This chapter introduced the atoms of Python: numbers, strings, and variables. Let’s try a few small exercises with them in the interactive interpreter.\n",
    "\n",
    "2.1 How many seconds are in an hour? Use the interactive interpreter as a calculator and multiply the number of seconds in a minute (60) by the number of minutes in an hour (also 60).\n",
    "2.2 Assign the result from the previous task (seconds in an hour) to a variable called seconds_per_hour.\n",
    "2.3 How many seconds are in a day? Use your seconds_per_hour variable.\n",
    "2.4 Calculate seconds per day again, but this time save the result in a variable called seconds_per_day.\n",
    "2.5 Divide seconds_per_day by seconds_per_hour. Use floating-point (/) division.\n",
    "2.6 Divide seconds_per_day by seconds_per_hour, using integer (//) division. Did this number agree with the floating-point value from the previous question, aside from the final .0?"
   ]
  },
  {
   "cell_type": "code",
   "execution_count": 73,
   "metadata": {
    "collapsed": false
   },
   "outputs": [
    {
     "data": {
      "text/plain": [
       "3600"
      ]
     },
     "execution_count": 73,
     "metadata": {},
     "output_type": "execute_result"
    }
   ],
   "source": [
    "# 2.1\n",
    "60 * 60"
   ]
  },
  {
   "cell_type": "code",
   "execution_count": 74,
   "metadata": {
    "collapsed": true
   },
   "outputs": [],
   "source": [
    "# 2.2\n",
    "seconds_per_hour = 60 * 60"
   ]
  },
  {
   "cell_type": "code",
   "execution_count": 75,
   "metadata": {
    "collapsed": false
   },
   "outputs": [
    {
     "data": {
      "text/plain": [
       "86400"
      ]
     },
     "execution_count": 75,
     "metadata": {},
     "output_type": "execute_result"
    }
   ],
   "source": [
    "# 2.3\n",
    "seconds_per_hour * 24"
   ]
  },
  {
   "cell_type": "code",
   "execution_count": 76,
   "metadata": {
    "collapsed": false
   },
   "outputs": [],
   "source": [
    "# 2.4\n",
    "seconds_per_day = seconds_per_hour * 24"
   ]
  },
  {
   "cell_type": "code",
   "execution_count": 77,
   "metadata": {
    "collapsed": false
   },
   "outputs": [
    {
     "data": {
      "text/plain": [
       "24"
      ]
     },
     "execution_count": 77,
     "metadata": {},
     "output_type": "execute_result"
    }
   ],
   "source": [
    "# 2.5\n",
    "seconds_per_day / seconds_per_hour"
   ]
  },
  {
   "cell_type": "code",
   "execution_count": 78,
   "metadata": {
    "collapsed": false
   },
   "outputs": [
    {
     "data": {
      "text/plain": [
       "24"
      ]
     },
     "execution_count": 78,
     "metadata": {},
     "output_type": "execute_result"
    }
   ],
   "source": [
    "# 2.6\n",
    "seconds_per_day // seconds_per_hour"
   ]
  },
  {
   "cell_type": "markdown",
   "metadata": {},
   "source": [
    "# ch3"
   ]
  },
  {
   "cell_type": "raw",
   "metadata": {},
   "source": [
    "Things to Do\n",
    "In this chapter, you saw more complex data structures: lists, tuples, dictionaries, and sets. Using these and those from Chapter 2 (numbers and strings), you can represent elements in the real world with great variety.\n",
    "3.1. Create a list called years_list, starting with the year of your birth, and each year thereafter until the year of your fifth birthday. For example, if you were born in 1980. the list would be years_list = [1980, 1981, 1982, 1983, 1984, 1985].\n",
    "If you’re less than five years old and reading this book, I don’t know what to tell you.\n",
    "3.2. In which year in years_list was your third birthday? Remember, you were 0 years of age for your first year.\n",
    "3.3. In which year in years_list were you the oldest?\n",
    "3.4. Make a list called things with these three strings as elements: \"mozzarella\", \"cin\n",
    "derella\", \"salmonella\".\n",
    "3.5. Capitalize the element in things that refers to a person and then print the list. Did\n",
    "it change the element in the list?\n",
    "3.6. Make the cheesy element of things all uppercase and then print the list.\n",
    "3.7. Delete the disease element from things, collect your Nobel Prize, and print the list.\n",
    "3.8. Create a list called surprise with the elements \"Groucho\", \"Chico\", and \"Harpo\".\n",
    "3.9. Lowercase the last element of the surprise list, reverse it, and then capitalize it.\n",
    "3.10. Make an English-to-French dictionary called e2f and print it. Here are your starter words: dog is chien, cat is chat, and walrus is morse.\n",
    "3.11. Using your three-word dictionary e2f, print the French word for walrus.\n",
    "3.12. Make a French-to-English dictionary called f2e from e2f. Use the items method. 3.13. Using f2e, print the English equivalent of the French word chien.\n",
    "3.14. Make and print a set of English words from the keys in e2f.\n",
    "3.15. Make a multilevel dictionary called life. Use these strings for the topmost keys: 'animals', 'plants', and 'other'. Make the 'animals' key refer to another dictionary with the keys 'cats', 'octopi', and 'emus'. Make the 'cats' key refer to a list of strings with the values 'Henri', 'Grumpy', and 'Lucy'. Make all the other keys refer to empty dictionaries.\n",
    "3.16. Print the top-level keys of life.\n",
    "3.17. Print the keys for life['animals'].\n",
    "3.18. Print the values for life['animals']['cats']."
   ]
  },
  {
   "cell_type": "code",
   "execution_count": 1,
   "metadata": {
    "collapsed": false
   },
   "outputs": [
    {
     "name": "stdout",
     "output_type": "stream",
     "text": [
      "[1987, 1988, 1989, 1990, 1991, 1992]\n"
     ]
    }
   ],
   "source": [
    "# 3.1\n",
    "years_list = list(range(1987, 1987+5+1))\n",
    "print years_list"
   ]
  },
  {
   "cell_type": "code",
   "execution_count": 2,
   "metadata": {
    "collapsed": false
   },
   "outputs": [
    {
     "name": "stdout",
     "output_type": "stream",
     "text": [
      "1990\n"
     ]
    }
   ],
   "source": [
    "# 3.2\n",
    "print years_list[3]"
   ]
  },
  {
   "cell_type": "code",
   "execution_count": 4,
   "metadata": {
    "collapsed": false
   },
   "outputs": [
    {
     "name": "stdout",
     "output_type": "stream",
     "text": [
      "1992\n",
      "1992\n"
     ]
    }
   ],
   "source": [
    "# 3.3\n",
    "print years_list[-1]\n",
    "print max(years_list)"
   ]
  },
  {
   "cell_type": "code",
   "execution_count": 45,
   "metadata": {
    "collapsed": false
   },
   "outputs": [],
   "source": [
    "# 3.4\n",
    "things = ['mozzarella',# 莫札瑞拉起司\n",
    "          'cin derella',\n",
    "          'salmonella'] # 沙門氏菌屬"
   ]
  },
  {
   "cell_type": "code",
   "execution_count": 46,
   "metadata": {
    "collapsed": false
   },
   "outputs": [
    {
     "name": "stdout",
     "output_type": "stream",
     "text": [
      "['mozzarella', 'Cin derella', 'salmonella']\n"
     ]
    }
   ],
   "source": [
    "# 3.5\n",
    "things[1] = things[1].capitalize()\n",
    "print things"
   ]
  },
  {
   "cell_type": "code",
   "execution_count": 47,
   "metadata": {
    "collapsed": false
   },
   "outputs": [
    {
     "name": "stdout",
     "output_type": "stream",
     "text": [
      "['MOZZARELLA', 'Cin derella', 'SALMONELLA']\n"
     ]
    }
   ],
   "source": [
    "# 3.6\n",
    "things[0] = things[0].upper()\n",
    "things[2] = things[2].upper()\n",
    "print things"
   ]
  },
  {
   "cell_type": "code",
   "execution_count": 48,
   "metadata": {
    "collapsed": true
   },
   "outputs": [],
   "source": [
    "# 3.7\n",
    "del things[2]\n",
    "del things[0]\n",
    "things.append('Physics')\n",
    "things.append('Chemistry')\n",
    "things.append('Physiology or Medicine')\n",
    "things.append('Literature')\n",
    "things.append('Peace')\n",
    "things.append('Economics')\n",
    "print things"
   ]
  },
  {
   "cell_type": "code",
   "execution_count": 51,
   "metadata": {
    "collapsed": false
   },
   "outputs": [],
   "source": [
    "# 3.8\n",
    "surprise = []\n",
    "surprise.extend(['Groucho', 'Chico', 'Harpo'])\n",
    "print surprise"
   ]
  },
  {
   "cell_type": "code",
   "execution_count": 57,
   "metadata": {
    "collapsed": false
   },
   "outputs": [
    {
     "name": "stdout",
     "output_type": "stream",
     "text": [
      "['Groucho', 'Chico', 'Oprah']\n"
     ]
    }
   ],
   "source": [
    "# 3.9\n",
    "surprise[-1] = surprise[-1].lower()\n",
    "surprise[-1] = surprise[-1][::-1]\n",
    "surprise[-1] = surprise[-1].capitalize()\n",
    "print surprise[-1]"
   ]
  },
  {
   "cell_type": "code",
   "execution_count": 58,
   "metadata": {
    "collapsed": false
   },
   "outputs": [
    {
     "name": "stdout",
     "output_type": "stream",
     "text": [
      "{'walrus': 'morse', 'dog': 'chien', 'cat': 'chat'}\n"
     ]
    }
   ],
   "source": [
    "# 3.10\n",
    "e2f = {'dog':'chien', 'cat':'chat', 'walrus':'morse'}\n",
    "print e2f"
   ]
  },
  {
   "cell_type": "code",
   "execution_count": 59,
   "metadata": {
    "collapsed": false
   },
   "outputs": [
    {
     "name": "stdout",
     "output_type": "stream",
     "text": [
      "morse\n"
     ]
    }
   ],
   "source": [
    "# 3.11\n",
    "print e2f['walrus']"
   ]
  },
  {
   "cell_type": "code",
   "execution_count": 60,
   "metadata": {
    "collapsed": true
   },
   "outputs": [],
   "source": [
    "# 3.12\n",
    "f2e = {}\n",
    "for e, f in e2f.items():\n",
    "    f2e[f] = e"
   ]
  },
  {
   "cell_type": "code",
   "execution_count": 61,
   "metadata": {
    "collapsed": false
   },
   "outputs": [
    {
     "name": "stdout",
     "output_type": "stream",
     "text": [
      "dog\n"
     ]
    }
   ],
   "source": [
    "# 3.13\n",
    "print f2e['chien']"
   ]
  },
  {
   "cell_type": "code",
   "execution_count": 68,
   "metadata": {
    "collapsed": false
   },
   "outputs": [
    {
     "name": "stdout",
     "output_type": "stream",
     "text": [
      "set(['walrus', 'dog', 'cat'])\n"
     ]
    }
   ],
   "source": [
    "# 3.14\n",
    "e2f_keys = set(e2f.keys())\n",
    "print e2f_keys"
   ]
  },
  {
   "cell_type": "code",
   "execution_count": 69,
   "metadata": {
    "collapsed": false
   },
   "outputs": [],
   "source": [
    "# 3.15\n",
    "life = {\n",
    "    'animals':{\n",
    "        'cats':['Henri', 'Grumpy', 'Lucy'], \n",
    "        'octopi':{}, \n",
    "        'emus':{}\n",
    "    }, \n",
    "    'plants':{},\n",
    "    'other':{}\n",
    "}"
   ]
  },
  {
   "cell_type": "code",
   "execution_count": 70,
   "metadata": {
    "collapsed": false
   },
   "outputs": [
    {
     "name": "stdout",
     "output_type": "stream",
     "text": [
      "['plants', 'other', 'animals']\n"
     ]
    }
   ],
   "source": [
    "# 3.16\n",
    "print life.keys()"
   ]
  },
  {
   "cell_type": "code",
   "execution_count": 71,
   "metadata": {
    "collapsed": false
   },
   "outputs": [
    {
     "name": "stdout",
     "output_type": "stream",
     "text": [
      "['octopi', 'cats', 'emus']\n"
     ]
    }
   ],
   "source": [
    "# 3.17\n",
    "print life['animals'].keys()"
   ]
  },
  {
   "cell_type": "code",
   "execution_count": 79,
   "metadata": {
    "collapsed": false
   },
   "outputs": [
    {
     "name": "stdout",
     "output_type": "stream",
     "text": [
      "['Henri', 'Grumpy', 'Lucy']\n"
     ]
    }
   ],
   "source": [
    "# 3.18\n",
    "print life['animals']['cats']"
   ]
  },
  {
   "cell_type": "markdown",
   "metadata": {},
   "source": [
    "# ch4"
   ]
  },
  {
   "cell_type": "raw",
   "metadata": {
    "collapsed": true
   },
   "source": [
    "Things to Do\n",
    "4.1 Assign the value 7 to the variable guess_me. Then, write the conditional tests (if, else, and elif) to print the string 'too low' if guess_me is less than 7, 'too high' if greater than 7, and 'just right' if equal to 7.\n",
    "4.2 Assign the value 7 to the variable guess_me and the value 1 to the variable start. Write a while loop that compares start with guess_me. Print too low if start is less than guess me. If start equals guess_me, print 'found it!' and exit the loop. If start is greater than guess_me, print 'oops' and exit the loop. Increment start at the end of the loop.\n",
    "4.3 Use a for loop to print the values of the list [3, 2, 1, 0].\n",
    "4.4 Use a list comprehension to make a list of the even numbers in range(10).\n",
    "4.5 Use a dictionary comprehension to create the dictionary squares. Use range(10) to return the keys, and use the square of each key as its value.\n",
    "4.6 Use a set comprehension to create the set odd from the odd numbers in range(10). \n",
    "4.7 Use a generator comprehension to return the string 'Got ' and a number for the numbers in range(10). Iterate through this by using a for loop.\n",
    "4.8 Define a function called good that returns the list ['Harry', 'Ron', 'Hermione'].\n",
    "4.9 Define a generator function called get_odds that returns the odd numbers from range(10). Use a for loop to find and print the third value returned.\n",
    "4.10 Define a decorator called test that prints 'start' when a function is called and 'end' when it finishes.\n",
    "4.11 Define an exception called OopsException. Raise this exception to see what happens. Then write the code to catch this exception and print 'Caught an oops'.\n",
    "4.12 Use zip() to make a dictionary called movies that pairs these lists: titles = ['Creature of Habit', 'Crewel Fate'] and plots = ['A nun turns into a monster', 'A haunted yarn shop']."
   ]
  },
  {
   "cell_type": "code",
   "execution_count": 2,
   "metadata": {
    "collapsed": false
   },
   "outputs": [
    {
     "name": "stdout",
     "output_type": "stream",
     "text": [
      "just right\n"
     ]
    }
   ],
   "source": [
    "# 4.1\n",
    "guess_me = 7\n",
    "if guess_me < 7:\n",
    "    print 'too low'\n",
    "elif guess_me > 7:\n",
    "    print 'too high'\n",
    "else:\n",
    "    print 'just right'"
   ]
  },
  {
   "cell_type": "code",
   "execution_count": 10,
   "metadata": {
    "collapsed": false
   },
   "outputs": [
    {
     "name": "stdout",
     "output_type": "stream",
     "text": [
      "too low\n",
      "too low\n",
      "too low\n",
      "too low\n",
      "too low\n",
      "too low\n",
      "found it!\n"
     ]
    }
   ],
   "source": [
    "# 4.2\n",
    "guess_me = 7\n",
    "start = 1\n",
    "while True:\n",
    "    if start < guess_me:\n",
    "        print 'too low'\n",
    "    elif start == guess_me:\n",
    "        print 'found it!'\n",
    "        break\n",
    "    else:\n",
    "        print 'oops'\n",
    "        break\n",
    "    start += 1"
   ]
  },
  {
   "cell_type": "code",
   "execution_count": 12,
   "metadata": {
    "collapsed": false
   },
   "outputs": [
    {
     "name": "stdout",
     "output_type": "stream",
     "text": [
      "3 2 1 0\n"
     ]
    }
   ],
   "source": [
    "# 4.3\n",
    "for i in [3, 2, 1, 0]:\n",
    "    print i,"
   ]
  },
  {
   "cell_type": "code",
   "execution_count": 17,
   "metadata": {
    "collapsed": false
   },
   "outputs": [
    {
     "name": "stdout",
     "output_type": "stream",
     "text": [
      "[0, 2, 4, 6, 8]\n"
     ]
    }
   ],
   "source": [
    "# 4.4\n",
    "even = [ i for i in range(10) if i%2 == 0 ]\n",
    "print even"
   ]
  },
  {
   "cell_type": "code",
   "execution_count": 16,
   "metadata": {
    "collapsed": false
   },
   "outputs": [
    {
     "name": "stdout",
     "output_type": "stream",
     "text": [
      "{0: 0, 1: 1, 2: 4, 3: 9, 4: 16, 5: 25, 6: 36, 7: 49, 8: 64, 9: 81}\n"
     ]
    }
   ],
   "source": [
    "# 4.5\n",
    "squares = { i:i**2 for i in range(10) }\n",
    "print squares"
   ]
  },
  {
   "cell_type": "code",
   "execution_count": 19,
   "metadata": {
    "collapsed": false
   },
   "outputs": [
    {
     "name": "stdout",
     "output_type": "stream",
     "text": [
      "set([1, 3, 9, 5, 7])\n"
     ]
    }
   ],
   "source": [
    "# 4.6\n",
    "odd = { i for i in range(10) if i%2 == 1 }\n",
    "print odd"
   ]
  },
  {
   "cell_type": "code",
   "execution_count": 21,
   "metadata": {
    "collapsed": false
   },
   "outputs": [
    {
     "name": "stdout",
     "output_type": "stream",
     "text": [
      "Got 0\n",
      "Got 1\n",
      "Got 2\n",
      "Got 3\n",
      "Got 4\n",
      "Got 5\n",
      "Got 6\n",
      "Got 7\n",
      "Got 8\n",
      "Got 9\n"
     ]
    }
   ],
   "source": [
    "# 4.7\n",
    "gc = ( 'Got %s'%i for i in range(10) )\n",
    "for i in gc:\n",
    "    print i"
   ]
  },
  {
   "cell_type": "code",
   "execution_count": 22,
   "metadata": {
    "collapsed": true
   },
   "outputs": [],
   "source": [
    "# 4.8\n",
    "def good():\n",
    "    return ['Harry', 'Ron', 'Hermione']"
   ]
  },
  {
   "cell_type": "code",
   "execution_count": 27,
   "metadata": {
    "collapsed": false
   },
   "outputs": [
    {
     "name": "stdout",
     "output_type": "stream",
     "text": [
      "5\n"
     ]
    }
   ],
   "source": [
    "# 4.9\n",
    "def get_odds():\n",
    "    for i in range(10):\n",
    "        if i%2 == 1:\n",
    "            yield i\n",
    "count = 1\n",
    "for i in get_odds():\n",
    "    if count == 3:\n",
    "        print i\n",
    "        break\n",
    "    else:\n",
    "        count += 1"
   ]
  },
  {
   "cell_type": "code",
   "execution_count": 32,
   "metadata": {
    "collapsed": false
   },
   "outputs": [
    {
     "name": "stdout",
     "output_type": "stream",
     "text": [
      "start\n",
      "in tryy\n",
      "end\n"
     ]
    },
    {
     "ename": "TypeError",
     "evalue": "'NoneType' object is not callable",
     "output_type": "error",
     "traceback": [
      "\u001b[0;31m---------------------------------------------------------------------------\u001b[0m",
      "\u001b[0;31mTypeError\u001b[0m                                 Traceback (most recent call last)",
      "\u001b[0;32m<ipython-input-32-6cb5771b8619>\u001b[0m in \u001b[0;36m<module>\u001b[0;34m()\u001b[0m\n\u001b[1;32m     11\u001b[0m     \u001b[0;32mreturn\u001b[0m \u001b[0mNone\u001b[0m\u001b[0;34m\u001b[0m\u001b[0m\n\u001b[1;32m     12\u001b[0m \u001b[0;34m\u001b[0m\u001b[0m\n\u001b[0;32m---> 13\u001b[0;31m \u001b[0;32mprint\u001b[0m \u001b[0mtryy\u001b[0m\u001b[0;34m(\u001b[0m\u001b[0;34m)\u001b[0m\u001b[0;34m\u001b[0m\u001b[0m\n\u001b[0m",
      "\u001b[0;31mTypeError\u001b[0m: 'NoneType' object is not callable"
     ]
    }
   ],
   "source": [
    "# 4.10\n",
    "def test(func, *args, **kwargs):\n",
    "    print 'start'\n",
    "    result = func(*args, **kwargs)\n",
    "    print 'end'\n",
    "    return result\n",
    "\n",
    "@ test\n",
    "def tryy():\n",
    "    print 'in tryy'\n",
    "    return None\n",
    "    \n",
    "print tryy()"
   ]
  },
  {
   "cell_type": "code",
   "execution_count": 38,
   "metadata": {
    "collapsed": false
   },
   "outputs": [
    {
     "name": "stdout",
     "output_type": "stream",
     "text": [
      "Caught an oops\n"
     ]
    }
   ],
   "source": [
    "# 4.11\n",
    "class OopsException(Exception):\n",
    "    pass\n",
    "#raise OopsException\n",
    "\n",
    "try:\n",
    "    raise OopsException\n",
    "except OopsException:\n",
    "    print 'Caught an oops'"
   ]
  },
  {
   "cell_type": "code",
   "execution_count": 41,
   "metadata": {
    "collapsed": false
   },
   "outputs": [
    {
     "name": "stdout",
     "output_type": "stream",
     "text": [
      "{'Crewel Fate': 'A haunted yarn shop', 'Creature of Habit': 'A nun turns into a mon ster'}\n"
     ]
    }
   ],
   "source": [
    "# 4.12\n",
    "titles = ['Creature of Habit', 'Crewel Fate']\n",
    "plots = ['A nun turns into a monster', 'A haunted yarn shop']\n",
    "movies = dict( zip(titles, plots) )\n",
    "print movies"
   ]
  },
  {
   "cell_type": "markdown",
   "metadata": {},
   "source": [
    "# ch5"
   ]
  },
  {
   "cell_type": "raw",
   "metadata": {},
   "source": [
    "Things to Do\n",
    "5.1. Create a file called zoo.py. In it, define a function called hours() that prints the string 'Open 9-5 daily'. Then, use the interactive interpreter to import the zoo module and call its hours() function.\n",
    "5.2. In the interactive interpreter, import the zoo module as menagerie and call its hours() function.\n",
    "5.3. Staying in the interpreter, import the hours() function from zoo directly and call it.\n",
    "5.4. Import the hours() function as info and call it.\n",
    "5.5. Make a dictionary called plain with the key-value pairs 'a': 1, 'b': 2, and 'c': 3, and then print it.\n",
    "5.6. Make an OrderedDict called fancy from the same pairs listed in 5.5 and print it.\n",
    "Did it print in the same order as plain?\n",
    "5.7. Make a defaultdict called dict_of_lists and pass it the argument list. Make the list dict_of_lists['a'] and append the value 'something for a' to it in one assignment. Print dict_of_lists['a']."
   ]
  },
  {
   "cell_type": "code",
   "execution_count": null,
   "metadata": {
    "collapsed": true
   },
   "outputs": [],
   "source": [
    "# 5.1: in zoo_ch5.py\n",
    "def hours():\n",
    "    print 'Open 9-5 daily'"
   ]
  },
  {
   "cell_type": "raw",
   "metadata": {},
   "source": [
    ">>> import zoo_ch5\n",
    ">>> zoo_ch5.hours()\n",
    "Open 9-5 daily\n",
    ">>>"
   ]
  },
  {
   "cell_type": "raw",
   "metadata": {},
   "source": [
    "# 5.2\n",
    ">>> import zoo_ch5 as menagerie\n",
    ">>> menagerie.hours()\n",
    "Open 9-5 daily\n",
    ">>>"
   ]
  },
  {
   "cell_type": "raw",
   "metadata": {},
   "source": [
    "# 5.3\n",
    ">>> from zoo_ch5 import hours\n",
    ">>> hours()\n",
    "Open 9-5 daily\n",
    ">>>"
   ]
  },
  {
   "cell_type": "code",
   "execution_count": 42,
   "metadata": {
    "collapsed": false
   },
   "outputs": [
    {
     "name": "stdout",
     "output_type": "stream",
     "text": [
      "Open 9-5 daily\n"
     ]
    }
   ],
   "source": [
    "# 5.4\n",
    "from zoo_ch5 import hours as info\n",
    "info()"
   ]
  },
  {
   "cell_type": "code",
   "execution_count": 43,
   "metadata": {
    "collapsed": false
   },
   "outputs": [
    {
     "name": "stdout",
     "output_type": "stream",
     "text": [
      "{'a': 1, 'c': 3, 'b': 2}\n"
     ]
    }
   ],
   "source": [
    "# 5.5\n",
    "plain = {'a': 1, 'b': 2, 'c': 3}\n",
    "print plain"
   ]
  },
  {
   "cell_type": "code",
   "execution_count": 47,
   "metadata": {
    "collapsed": false
   },
   "outputs": [
    {
     "name": "stdout",
     "output_type": "stream",
     "text": [
      "OrderedDict([('a', 1), ('b', 2), ('c', 3)])\n"
     ]
    }
   ],
   "source": [
    "# 5.6\n",
    "from collections import OrderedDict\n",
    "fancy = OrderedDict( [('a', 1), ('b', 2), ('c', 3)] )\n",
    "print fancy"
   ]
  },
  {
   "cell_type": "code",
   "execution_count": 52,
   "metadata": {
    "collapsed": false
   },
   "outputs": [
    {
     "name": "stdout",
     "output_type": "stream",
     "text": [
      "defaultdict(<type 'list'>, {'a': ['something for a']})\n"
     ]
    }
   ],
   "source": [
    "# 5.7\n",
    "from collections import defaultdict\n",
    "dict_of_lists = defaultdict(list)\n",
    "dict_of_lists['a'].append('something for a')\n",
    "print dict_of_lists"
   ]
  },
  {
   "cell_type": "markdown",
   "metadata": {},
   "source": [
    "# ch6"
   ]
  },
  {
   "cell_type": "raw",
   "metadata": {},
   "source": [
    "Things to Do\n",
    "6.1. Make a class called Thing with no contents and print it. Then, create an object called example from this class and also print it. Are the printed values the same or different?\n",
    "6.2. Make a new class called Thing2 and assign the value 'abc' to a class attribute called letters. Print letters.\n",
    "6.3. Make yet another class called, of course, Thing3. This time, assign the value 'xyz' to an instance (object) attribute called letters. Print letters. Do you need to make an object from the class to do this?\n",
    "6.4. Make a class called Element, with instance attributes name, symbol, and number. Create an object of this class with the values 'Hydrogen', 'H', and 1.\n",
    "6.5. Make a dictionary with these keys and values: 'name': 'Hydrogen', 'symbol': 'H', 'number': 1. Then, create an object called hydrogen from class Element using this dictionary.\n",
    "6.6. For the Element class, define a method called dump() that prints the values of the object’s attributes (name, symbol, and number). Create the hydrogen object from this new definition and use dump() to print its attributes.\n",
    "6.7. Call print(hydrogen). In the definition of Element, change the name of method dump to __str__, create a new hydrogen object, and call print(hydrogen) again.\n",
    "6.8. Modify Element to make the attributes name, symbol, and number private. Define a getter property for each to return its value.\n",
    "6.9. Define three classes: Bear, Rabbit, and Octothorpe. For each, define only one method: eats(). This should return 'berries' (Bear), 'clover' (Rabbit), or 'campers' (Octothorpe). Create one object from each and print what it eats.\n",
    "6.10. Define these classes: Laser, Claw, and SmartPhone. Each has only one method: does(). This returns 'disintegrate' (Laser), 'crush' (Claw), or 'ring' (Smart Phone). Then, define the class Robot that has one instance (object) of each of these. Define a does() method for the Robot that prints what its component objects do."
   ]
  },
  {
   "cell_type": "code",
   "execution_count": 10,
   "metadata": {
    "collapsed": false
   },
   "outputs": [
    {
     "name": "stdout",
     "output_type": "stream",
     "text": [
      "__main__.Thing\n",
      "<__main__.Thing instance at 0x108415128>\n"
     ]
    }
   ],
   "source": [
    "# 6.1\n",
    "class Thing():\n",
    "    def __init__(self):\n",
    "        pass\n",
    "print Thing\n",
    "\n",
    "example = Thing()\n",
    "print example"
   ]
  },
  {
   "cell_type": "code",
   "execution_count": 16,
   "metadata": {
    "collapsed": false
   },
   "outputs": [
    {
     "name": "stdout",
     "output_type": "stream",
     "text": [
      "abc\n"
     ]
    }
   ],
   "source": [
    "# 6.2\n",
    "class Thing2():\n",
    "    # 類別屬性\n",
    "    letters = 'abc'\n",
    "    \n",
    "    def __init__(self):\n",
    "        pass\n",
    "    \n",
    "print Thing2.letters"
   ]
  },
  {
   "cell_type": "code",
   "execution_count": 21,
   "metadata": {
    "collapsed": false
   },
   "outputs": [
    {
     "name": "stdout",
     "output_type": "stream",
     "text": [
      "abc\n"
     ]
    }
   ],
   "source": [
    "# 6.3\n",
    "class Thing3():\n",
    "    def __init__(self):\n",
    "        #實例屬性\n",
    "        self.letters = 'abc'\n",
    "        \n",
    "print Thing3().letters    "
   ]
  },
  {
   "cell_type": "code",
   "execution_count": 25,
   "metadata": {
    "collapsed": false
   },
   "outputs": [
    {
     "name": "stdout",
     "output_type": "stream",
     "text": [
      "Hydrogen H 1\n"
     ]
    }
   ],
   "source": [
    "# 6.4\n",
    "class Element():\n",
    "    def __init__(self, name, symbol, number):\n",
    "        self.name = name\n",
    "        self.symbol = symbol\n",
    "        self.number = number\n",
    "e = Element('Hydrogen', 'H', 1)\n",
    "print e.name, e.symbol, e.number"
   ]
  },
  {
   "cell_type": "code",
   "execution_count": 22,
   "metadata": {
    "collapsed": false
   },
   "outputs": [
    {
     "name": "stdout",
     "output_type": "stream",
     "text": [
      "Hydrogen H 1\n"
     ]
    }
   ],
   "source": [
    "# 6.5\n",
    "hydrogen = Element(**{'name': 'Hydrogen', 'symbol': 'H', 'number': 1})\n",
    "print hydrogen.name, hydrogen.symbol, hydrogen.number"
   ]
  },
  {
   "cell_type": "code",
   "execution_count": 24,
   "metadata": {
    "collapsed": false
   },
   "outputs": [
    {
     "name": "stdout",
     "output_type": "stream",
     "text": [
      "('Hydrogen', 'H', 1)\n"
     ]
    }
   ],
   "source": [
    "# 6.6\n",
    "class Element():\n",
    "    def __init__(self, name, symbol, number):\n",
    "        self.name = name\n",
    "        self.symbol = symbol\n",
    "        self.number = number\n",
    "    def dump(self):\n",
    "        return self.name, self.symbol, self.number\n",
    "hydrogen = Element(**{'name': 'Hydrogen', 'symbol': 'H', 'number': 1})\n",
    "print hydrogen.dump()"
   ]
  },
  {
   "cell_type": "code",
   "execution_count": 25,
   "metadata": {
    "collapsed": false
   },
   "outputs": [
    {
     "name": "stdout",
     "output_type": "stream",
     "text": [
      "<__main__.Element instance at 0x10f3d9050>\n",
      "Hydrogen H 1\n"
     ]
    }
   ],
   "source": [
    "# 6.7\n",
    "print(hydrogen)\n",
    "class Element():\n",
    "    def __init__(self, name, symbol, number):\n",
    "        self.name = name\n",
    "        self.symbol = symbol\n",
    "        self.number = number\n",
    "    def __str__(self):\n",
    "        return ' '.join([self.name, self.symbol, str(self.number)])\n",
    "\n",
    "hydrogen = Element(**{'name': 'Hydrogen', 'symbol': 'H', 'number': 1})\n",
    "print(hydrogen)"
   ]
  },
  {
   "cell_type": "code",
   "execution_count": 26,
   "metadata": {
    "collapsed": false
   },
   "outputs": [
    {
     "name": "stdout",
     "output_type": "stream",
     "text": [
      "Hydrogen H 1\n"
     ]
    }
   ],
   "source": [
    "# 6.8\n",
    "class Element():\n",
    "    def __init__(self, name, symbol, number):\n",
    "        self.__name = name\n",
    "        self.__symbol = symbol\n",
    "        self.__number = number\n",
    "    def __str__(self):\n",
    "        return ' '.join([self.__name, self.__symbol, str(self.__number)])\n",
    "    \n",
    "    @property\n",
    "    def name(self):\n",
    "        return self.__name\n",
    "    @property\n",
    "    def symbol(self):\n",
    "        return self.__symbol\n",
    "    @property\n",
    "    def number(self):\n",
    "        return self.__number\n",
    "    \n",
    "    \n",
    "hydrogen = Element(**{'name': 'Hydrogen', 'symbol': 'H', 'number': 1})\n",
    "print(hydrogen)"
   ]
  },
  {
   "cell_type": "code",
   "execution_count": 27,
   "metadata": {
    "collapsed": false
   },
   "outputs": [
    {
     "name": "stdout",
     "output_type": "stream",
     "text": [
      "berries clover campers\n"
     ]
    }
   ],
   "source": [
    "# 6.9 -1\n",
    "class Bear():\n",
    "    def eats(self):\n",
    "        return 'berries'\n",
    "    \n",
    "class Rabbit():\n",
    "    def eats(self):\n",
    "        return 'clover'\n",
    "    \n",
    "class Octothorpe():\n",
    "    def eats(self):\n",
    "        return 'campers'\n",
    "\n",
    "b, r, o = Bear(), Rabbit(), Octothorpe()\n",
    "print b.eats(), r.eats(), o.eats()"
   ]
  },
  {
   "cell_type": "code",
   "execution_count": 28,
   "metadata": {
    "collapsed": false
   },
   "outputs": [
    {
     "name": "stdout",
     "output_type": "stream",
     "text": [
      "berries clover campers\n"
     ]
    }
   ],
   "source": [
    "# 6.9-2\n",
    "class animal():\n",
    "    def __init__(self):\n",
    "        self.food = ''\n",
    "    def eats(self):\n",
    "        return self.food\n",
    "\n",
    "class Bear(animal):\n",
    "    def __init__(self):\n",
    "        self.food = 'berries'\n",
    "    \n",
    "class Rabbit(animal):\n",
    "    def __init__(self):\n",
    "        self.food = 'clover'\n",
    "    \n",
    "class Octothorpe(animal):\n",
    "    def __init__(self):\n",
    "        self.food = 'campers'\n",
    "\n",
    "b, r, o = Bear(), Rabbit(), Octothorpe()\n",
    "print b.eats(), r.eats(), o.eats()"
   ]
  },
  {
   "cell_type": "code",
   "execution_count": 4,
   "metadata": {
    "collapsed": false,
    "scrolled": true
   },
   "outputs": [
    {
     "name": "stdout",
     "output_type": "stream",
     "text": [
      "laser: disintegrate \n",
      "claw: crush \n",
      "smart_phone: ring\n"
     ]
    }
   ],
   "source": [
    "# 6.10\n",
    "class Laser():\n",
    "    def does(self):\n",
    "        return 'disintegrate'\n",
    "class Claw():\n",
    "    def does(self):\n",
    "        return 'crush'\n",
    "class SmartPhone():\n",
    "    def does(self):\n",
    "        return 'ring'\n",
    "\n",
    "class Robot():\n",
    "    def __init__(self):\n",
    "        self.laser = Laser()\n",
    "        self.claw = Claw()\n",
    "        self.smart_phone = SmartPhone()\n",
    "    def does(self):\n",
    "        print ' '.join(['laser:', self.laser.does(), \\\n",
    "                        '\\nclaw:', self.claw.does(), \\\n",
    "                        '\\nsmart_phone:', self.smart_phone.does()])\n",
    "        \n",
    "rob = Robot()\n",
    "rob.does()"
   ]
  },
  {
   "cell_type": "markdown",
   "metadata": {
    "collapsed": false
   },
   "source": [
    "# ch7"
   ]
  },
  {
   "cell_type": "raw",
   "metadata": {
    "collapsed": true
   },
   "source": [
    "Things to Do\n",
    "7.1. Create a Unicode string called mystery and assign it the value '\\U0001f4a9'. Print mystery. Look up the Unicode name for mystery.\n",
    "7.2. Encode mystery, this time using UTF-8, into the bytes variable pop_bytes. Print pop_bytes.\n",
    "7.3. Using UTF-8, decode pop_bytes into the string variable pop_string. Print pop_string. Is pop_string equal to mystery?\n",
    "7.4. Write the following poem by using old-style formatting. Substitute the strings 'roast beef', 'ham', 'head', and 'clam' into this string:\n",
    "    My kitty cat likes %s,\n",
    "    My kitty cat likes %s,\n",
    "    My kitty cat fell on his %s\n",
    "    And now thinks he's a %s.\n",
    "7.5. Write a form letter by using new-style formatting. Save the following string as letter (you’ll use it in the next exercise):\n",
    "    Dear {salutation} {name},\n",
    "    Thank you for your letter. We are sorry that our {product} {verbed} in your\n",
    "    {room}. Please note that it should never be used in a {room}, especially\n",
    "    near any {animals}.\n",
    "    Send us your receipt and {amount} for shipping and handling. We will send\n",
    "    you another {product} that, in our tests, is {percent}% less likely to\n",
    "    have {verbed}.\n",
    "    Thank you for your support.\n",
    "    Sincerely,\n",
    "    {spokesman}\n",
    "    {job_title}\n",
    "7.6. Make a dictionary called response with values for the string keys 'salutation', 'name', 'product', 'verbed' (past tense verb), 'room', 'animals', 'amount', 'per cent', 'spokesman', and 'job_title'. Print letter with the values from response.\n",
    "7.7. When you’re working with text, regular expressions come in very handy. We’ll apply them in a number of ways to our featured text sample. It’s a poem titled “Ode on the Mammoth Cheese,” written by James McIntyre in 1866 in homage to a seven-thousand- pound cheese that was crafted in Ontario and sent on an international tour. If you’d rather not type all of it, use your favorite search engine and cut and paste the words into your Python program. Or, just grab it from Project Gutenberg. Call the text string mammoth.\n",
    "    We have seen thee, queen of cheese,\n",
    "    Lying quietly at your ease,\n",
    "    Gently fanned by evening breeze,\n",
    "    Thy fair form no flies dare seize.\n",
    "    All gaily dressed soon you'll go\n",
    "    To the great Provincial show,\n",
    "    To be admired by many a beau\n",
    "    In the city of Toronto.\n",
    "    Cows numerous as a swarm of bees,\n",
    "    Or as the leaves upon the trees,\n",
    "    It did require to make thee please,\n",
    "    And stand unrivalled, queen of cheese.\n",
    "    May you not receive a scar as\n",
    "    We have heard that Mr. Harris\n",
    "    Intends to send you off as far as\n",
    "    The great world's show at Paris.\n",
    "    Of the youth beware of these,\n",
    "    For some of them might rudely squeeze\n",
    "    And bite your cheek, then songs or glees\n",
    "    We could not sing, oh! queen of cheese.\n",
    "    We'rt thou suspended from balloon,\n",
    "    You'd cast a shade even at noon,\n",
    "    Folks would think it was the moon\n",
    "    About to fall and crush them soon.\n",
    "7.8. Import the re module to use Python’s regular expression functions. Use re.findall() to print all the words that begin with c.\n",
    "7.9. Find all four-letter words that begin with c.\n",
    "7.10. Find all the words that end with r.\n",
    "7.11. Find all words that contain exactly three vowels in a row.\n",
    "7.12. Use unhexlify to convert this hex string (combined from two strings to fit on a page) to a bytes variable called gif:\n",
    "    '47494638396101000100800000000000ffffff21f9' +\n",
    "    '0401000000002c000000000100010000020144003b'\n",
    "7.13. The bytes in gif define a one-pixel transparent GIF file, one of the most common graphics file formats. A legal GIF starts with the string GIF89a. Does gif match this?\n",
    "7.14. The pixel width of a GIF is a 16-bit big-endian integer beginning at byte offset 6, and the height is the same size, starting at offset 8. Extract and print these values for gif. Are they both 1?"
   ]
  },
  {
   "cell_type": "code",
   "execution_count": null,
   "metadata": {
    "collapsed": false
   },
   "outputs": [],
   "source": [
    "# 7.1\n",
    "import unicodedata as ud\n",
    "mystery = '\\U0001f4a9'\n",
    "print(mystery)\n",
    "print(ud.name(mystery))\n",
    "# 7.2\n",
    "pop_bytes = mystery.encode('utf-8')\n",
    "print(pop_bytes)\n",
    "# 7.3\n",
    "pop_string = pop_bytes.decode('utf-8')\n",
    "print(pop_string)\n",
    "print(pop_string == mystery)"
   ]
  },
  {
   "cell_type": "raw",
   "metadata": {},
   "source": [
    "# output\n",
    "# 7.1\n",
    "💩\n",
    "PILE OF POO\n",
    "# 7.2\n",
    "b'\\xf0\\x9f\\x92\\xa9'\n",
    "# 7.3\n",
    "💩\n",
    "True\n",
    "# https://repl.it/languages/python3"
   ]
  },
  {
   "cell_type": "code",
   "execution_count": 24,
   "metadata": {
    "collapsed": false
   },
   "outputs": [
    {
     "name": "stdout",
     "output_type": "stream",
     "text": [
      "    My kitty cat likes roast beef,\n",
      "    My kitty cat likes ham,\n",
      "    My kitty cat fell on his head\n",
      "    And now thinks he's a clam.\n"
     ]
    }
   ],
   "source": [
    "# 7.4\n",
    "print '''    My kitty cat likes %s,\n",
    "    My kitty cat likes %s,\n",
    "    My kitty cat fell on his %s\n",
    "    And now thinks he's a %s.'''%('roast beef', 'ham', 'head', 'clam')"
   ]
  },
  {
   "cell_type": "code",
   "execution_count": 48,
   "metadata": {
    "collapsed": false
   },
   "outputs": [
    {
     "name": "stdout",
     "output_type": "stream",
     "text": [
      "    Dear Miss HY,\n",
      "    Thank you for your letter. We are sorry that our robot crashed in your\n",
      "    bathroom. Please note that it should never be used in a bathroom, especially\n",
      "    near any fish.\n",
      "    Send us your receipt and $100 for shipping and handling. We will send\n",
      "    you another robot that, in our tests, is 90% less likely to\n",
      "    have crashed.\n",
      "    Thank you for your support.\n",
      "    Sincerely,\n",
      "    QAQ\n",
      "    CEO\n"
     ]
    }
   ],
   "source": [
    "# 7.5\n",
    "letter = '''    Dear {salutation} {name},\n",
    "    Thank you for your letter. We are sorry that our {product} {verbed} in your\n",
    "    {room}. Please note that it should never be used in a {room}, especially\n",
    "    near any {animals}.\n",
    "    Send us your receipt and {amount} for shipping and handling. We will send\n",
    "    you another {product} that, in our tests, is {percent}% less likely to\n",
    "    have {verbed}.\n",
    "    Thank you for your support.\n",
    "    Sincerely,\n",
    "    {spokesman}\n",
    "    {job_title}'''\n",
    "# 7.6\n",
    "response = {'salutation':'Miss',\n",
    "           'name':'HY',\n",
    "           'product':'robot',\n",
    "           'verbed':'crashed',\n",
    "           'room':'bathroom',\n",
    "           'animals':'fish',\n",
    "           'amount':'$100',\n",
    "           'percent':'90',\n",
    "           'spokesman':'QAQ',\n",
    "           'job_title':'CEO'}\n",
    "print letter.format(**response)"
   ]
  },
  {
   "cell_type": "code",
   "execution_count": 47,
   "metadata": {
    "collapsed": false
   },
   "outputs": [
    {
     "name": "stdout",
     "output_type": "stream",
     "text": [
      "['cheese', 'city', 'cheese', 'cheek', 'could', 'cheese', 'cast', 'crush']\n"
     ]
    }
   ],
   "source": [
    "# 7.7\n",
    "mammoth = '''    We have seen thee, queen of cheese,\n",
    "    Lying quietly at your ease,\n",
    "    Gently fanned by evening breeze,\n",
    "    Thy fair form no flies dare seize.\n",
    "    All gaily dressed soon you'll go\n",
    "    To the great Provincial show,\n",
    "    To be admired by many a beau\n",
    "    In the city of Toronto.\n",
    "    Cows numerous as a swarm of bees,\n",
    "    Or as the leaves upon the trees,\n",
    "    It did require to make thee please,\n",
    "    And stand unrivalled, queen of cheese.\n",
    "    May you not receive a scar as\n",
    "    We have heard that Mr. Harris\n",
    "    Intends to send you off as far as\n",
    "    The great world's show at Paris.\n",
    "    Of the youth beware of these,\n",
    "    For some of them might rudely squeeze\n",
    "    And bite your cheek, then songs or glees\n",
    "    We could not sing, oh! queen of cheese.\n",
    "    We'rt thou suspended from balloon,\n",
    "    You'd cast a shade even at noon,\n",
    "    Folks would think it was the moon\n",
    "    About to fall and crush them soon.'''\n",
    "# 7.8\n",
    "import re\n",
    "print re.findall('(?<!\\w)c[\\w]*', mammoth)"
   ]
  },
  {
   "cell_type": "code",
   "execution_count": 4,
   "metadata": {
    "collapsed": false
   },
   "outputs": [
    {
     "name": "stdout",
     "output_type": "stream",
     "text": [
      "['cial', 'city', 'cast']\n"
     ]
    }
   ],
   "source": [
    "# 7.9\n",
    "print re.findall('c[\\w]{3}(?!\\w)', mammoth)"
   ]
  },
  {
   "cell_type": "code",
   "execution_count": 6,
   "metadata": {
    "collapsed": false
   },
   "outputs": [
    {
     "name": "stdout",
     "output_type": "stream",
     "text": [
      "['your', 'fair', 'Or', 'scar', 'Mr', 'far', 'For', 'your', 'or']\n"
     ]
    }
   ],
   "source": [
    "# 7.10\n",
    "print re.findall('[\\w]*r(?!\\w)', mammoth)"
   ]
  },
  {
   "cell_type": "code",
   "execution_count": 9,
   "metadata": {
    "collapsed": false
   },
   "outputs": [
    {
     "name": "stdout",
     "output_type": "stream",
     "text": [
      "['queen', 'quietly', 'beau', 'queen', 'squeeze', 'queen']\n"
     ]
    }
   ],
   "source": [
    "# 7.11\n",
    "print re.findall('[\\w]*[aeiou]{3}[\\w]*', mammoth)"
   ]
  },
  {
   "cell_type": "code",
   "execution_count": 46,
   "metadata": {
    "collapsed": false
   },
   "outputs": [
    {
     "name": "stdout",
     "output_type": "stream",
     "text": [
      "True\n",
      "width: (1,)\n",
      "heigth: (1,)\n"
     ]
    }
   ],
   "source": [
    "# 7.12\n",
    "import binascii\n",
    "gif = binascii.unhexlify('47494638396101000100800000000000ffffff21f9' +\\\n",
    "    '0401000000002c000000000100010000020144003b')\n",
    "# 7.13\n",
    "print gif.startswith('GIF89a')\n",
    "# 7.14\n",
    "import struct\n",
    "print 'width:', struct.unpack('>b', gif[6])\n",
    "print 'heigth:', struct.unpack('>b', gif[8])"
   ]
  },
  {
   "cell_type": "markdown",
   "metadata": {
    "collapsed": false
   },
   "source": [
    "# ch8"
   ]
  },
  {
   "cell_type": "raw",
   "metadata": {
    "collapsed": true
   },
   "source": [
    "Things to Do\n",
    "8.1. Assign the string 'This is a test of the emergency text system' to the variable test1, and write test1 to a file called test.txt.\n",
    "8.2. Open the file test.txt and read its contents into the string test2. Are test1 and test2 the same?\n",
    "8.3. Save these text lines to a file called books.csv. Notice that if the fields are separated by commas, you need to surround a field with quotes if it contains a comma.\n",
    "    author,book\n",
    "    J R R Tolkien,The Hobbit\n",
    "    Lynne Truss,\"Eats, Shoots & Leaves\"\n",
    "8.4. Use the csv module and its DictReader method to read books.csv to the variable books. Print the values in books. Did DictReader handle the quotes and commas in the second book’s title?\n",
    "8.5. Create a CSV file called books.csv by using these lines:\n",
    "    title,author,year\n",
    "    The Weirdstone of Brisingamen,Alan Garner,1960\n",
    "    Perdido Street Station,China Miéville,2000\n",
    "    Thud!,Terry Pratchett,2005\n",
    "    The Spellman Files,Lisa Lutz,2007\n",
    "    Small Gods,Terry Pratchett,1992\n",
    "8.6. Use the sqlite3 module to create a SQLite database called books.db, and a table called books with these fields: title (text), author (text), and year (integer).\n",
    "8.7. Read books.csv and insert its data into the book table.\n",
    "8.8. Select and print the title column from the book table in alphabetical order. 8.9. Select and print all columns from the book table in order of publication.\n",
    "8.10. Use the sqlalchemy module to connect to the sqlite3 database books.db that you just made in exercise 8.6. As in 8.8, select and print the title column from the book table in alphabetical order.\n",
    "8.11. Install the Redis server and the Python redis library (pip install redis) on your computer. Create a Redis hash called test with the fields count (1) and name ('Fester Bestertester'). Print all the fields for test.\n",
    "8.12. Increment the count field of test and print it."
   ]
  },
  {
   "cell_type": "code",
   "execution_count": 1,
   "metadata": {
    "collapsed": false
   },
   "outputs": [],
   "source": [
    "# 8.1\n",
    "test1 = 'This is a test of the emergency text system'\n",
    "with open('test.txt', 'w') as f:\n",
    "    f.write(test1)"
   ]
  },
  {
   "cell_type": "code",
   "execution_count": 4,
   "metadata": {
    "collapsed": false
   },
   "outputs": [
    {
     "name": "stdout",
     "output_type": "stream",
     "text": [
      "True\n"
     ]
    }
   ],
   "source": [
    "# 8.2\n",
    "with open('test.txt', 'r') as f:\n",
    "    test2 = f.read()\n",
    "print test1 == test2"
   ]
  },
  {
   "cell_type": "code",
   "execution_count": 33,
   "metadata": {
    "collapsed": true
   },
   "outputs": [],
   "source": [
    "# 8.3\n",
    "with open('books.csv', 'w') as f:\n",
    "    f.write('''author,book\n",
    "J R R Tolkien,The Hobbit\n",
    "Lynne Truss,\"Eats, Shoots & Leaves\"''')"
   ]
  },
  {
   "cell_type": "code",
   "execution_count": 34,
   "metadata": {
    "collapsed": false
   },
   "outputs": [
    {
     "name": "stdout",
     "output_type": "stream",
     "text": [
      "fieldnames: ['author', 'book']\n",
      "[{'book': 'The Hobbit', 'author': 'J R R Tolkien'}, {'book': 'Eats, Shoots & Leaves', 'author': 'Lynne Truss'}]\n"
     ]
    }
   ],
   "source": [
    "# 8.4: yes\n",
    "import csv\n",
    "with open('books.csv', 'r') as f:\n",
    "    c = csv.DictReader(f)\n",
    "    print 'fieldnames:', c.fieldnames\n",
    "    books = [row for row in c]\n",
    "print books"
   ]
  },
  {
   "cell_type": "code",
   "execution_count": 35,
   "metadata": {
    "collapsed": false
   },
   "outputs": [],
   "source": [
    "# 8.5\n",
    "with open('books.csv', 'w') as f:\n",
    "    f.write('''title,author,year\n",
    "The Weirdstone of Brisingamen,Alan Garner,1960\n",
    "Perdido Street Station,China Miéville,2000\n",
    "Thud!,Terry Pratchett,2005\n",
    "The Spellman Files,Lisa Lutz,2007\n",
    "Small Gods,Terry Pratchett,1992''')"
   ]
  },
  {
   "cell_type": "code",
   "execution_count": 251,
   "metadata": {
    "collapsed": false
   },
   "outputs": [],
   "source": [
    "# 8.6\n",
    "import sqlite3\n",
    "conn = sqlite3.connect('books.db')\n",
    "curs = conn.cursor()\n",
    "curs.execute('CREATE TABLE book(title VARCHAR(50), author VARCHAR(50), year INT)')\n",
    "conn.commit()"
   ]
  },
  {
   "cell_type": "code",
   "execution_count": 252,
   "metadata": {
    "collapsed": false
   },
   "outputs": [
    {
     "name": "stdout",
     "output_type": "stream",
     "text": [
      "INSERT INTO book(title, author, year) VALUES('The Weirdstone of Brisingamen', 'Alan Garner', '1960')\n",
      "INSERT INTO book(title, author, year) VALUES('Perdido Street Station', 'China Miéville', '2000')\n",
      "INSERT INTO book(title, author, year) VALUES('Thud!', 'Terry Pratchett', '2005')\n",
      "INSERT INTO book(title, author, year) VALUES('The Spellman Files', 'Lisa Lutz', '2007')\n",
      "INSERT INTO book(title, author, year) VALUES('Small Gods', 'Terry Pratchett', '1992')\n"
     ]
    }
   ],
   "source": [
    "# 8.7\n",
    "import csv\n",
    "with open('books.csv', 'r') as f:\n",
    "    c = csv.DictReader(f)\n",
    "    for row in c:\n",
    "        command = 'INSERT INTO book(title, author, year) '+\\\n",
    "            'VALUES(\\'{title}\\', \\'{author}\\', \\'{year}\\')'.format(**row)\n",
    "        print command\n",
    "        curs.execute(command)\n",
    "conn.commit()"
   ]
  },
  {
   "cell_type": "code",
   "execution_count": 253,
   "metadata": {
    "collapsed": false
   },
   "outputs": [
    {
     "name": "stdout",
     "output_type": "stream",
     "text": [
      "[(u'Perdido Street Station',), (u'Small Gods',), (u'The Spellman Files',), (u'The Weirdstone of Brisingamen',), (u'Thud!',)]\n"
     ]
    }
   ],
   "source": [
    "# 8.8\n",
    "curs.execute('SELECT title FROM book ORDER BY title')\n",
    "titles = curs.fetchall()\n",
    "print titles"
   ]
  },
  {
   "cell_type": "code",
   "execution_count": 254,
   "metadata": {
    "collapsed": false
   },
   "outputs": [
    {
     "name": "stdout",
     "output_type": "stream",
     "text": [
      "[(u'The Weirdstone of Brisingamen', u'Alan Garner', 1960), (u'Small Gods', u'Terry Pratchett', 1992), (u'Perdido Street Station', u'China Mi\\xe9ville', 2000), (u'Thud!', u'Terry Pratchett', 2005), (u'The Spellman Files', u'Lisa Lutz', 2007)]\n"
     ]
    }
   ],
   "source": [
    "# 8.9\n",
    "curs.execute('SELECT * FROM book ORDER BY year')\n",
    "rows = curs.fetchall()\n",
    "print rows"
   ]
  },
  {
   "cell_type": "code",
   "execution_count": 258,
   "metadata": {
    "collapsed": true
   },
   "outputs": [],
   "source": [
    "# curs.execute('DROP TABLE book')\n",
    "curs.close()\n",
    "conn.close()"
   ]
  },
  {
   "cell_type": "code",
   "execution_count": 261,
   "metadata": {
    "collapsed": false
   },
   "outputs": [
    {
     "name": "stdout",
     "output_type": "stream",
     "text": [
      "[(u'The Weirdstone of Brisingamen', u'Alan Garner', 1960), (u'Perdido Street Station', u'China Mi\\xe9ville', 2000), (u'Thud!', u'Terry Pratchett', 2005), (u'The Spellman Files', u'Lisa Lutz', 2007), (u'Small Gods', u'Terry Pratchett', 1992)]\n"
     ]
    }
   ],
   "source": [
    "# 8.10\n",
    "import sqlalchemy as sa\n",
    "conn_sa = sa.create_engine('sqlite:///./books.db') \n",
    "# https://kknews.cc/zh-tw/tech/n93agq.html\n",
    "rows = conn_sa.execute('SELECT * FROM book')\n",
    "print [r for r in rows]"
   ]
  },
  {
   "cell_type": "code",
   "execution_count": 225,
   "metadata": {
    "collapsed": false
   },
   "outputs": [
    {
     "name": "stdout",
     "output_type": "stream",
     "text": [
      "{'count': '1', 'name': 'Fester Bestertester'}\n"
     ]
    }
   ],
   "source": [
    "# 8.11\n",
    "\n",
    "# -----------\n",
    "# ref http://jasdeep.ca/2012/05/installing-redis-on-mac-os-x/\n",
    "# $ brew install redis\n",
    "# $ redis-server\n",
    "# -----------\n",
    "import redis\n",
    "conn_rds = redis.Redis('localhost', 6379)\n",
    "conn_rds.hmset('test', {'count':'1', 'name':'Fester Bestertester'})\n",
    "print conn_rds.hgetall('test')"
   ]
  },
  {
   "cell_type": "markdown",
   "metadata": {},
   "source": [
    "# ch9"
   ]
  },
  {
   "cell_type": "raw",
   "metadata": {},
   "source": [
    "Things to Do\n",
    "9.1. If you haven’t installed flask yet, do so now. This will also install werkzeug, jinja2, and possibly other packages.\n",
    "9.2. Build a skeleton website, using Flask’s debug/reload development web server. Ensure that the server starts up for hostname localhost on default port 5000. If your computer is already using port 5000 for something else, use another port number.\n",
    "9.3. Add a home() function to handle requests for the home page. Set it up to return the string It's alive!.\n",
    "9.4. Create a Jinja2 template file called home.html with the following contents:\n",
    "    <html>\n",
    "    <head>\n",
    "    <title>It's alive!</title>\n",
    "    <body>\n",
    "    I'm of course referring to {{thing}}, which is {{height}} feet tall and {{color}}.\n",
    "    </body>\n",
    "    </html>\n",
    "9.5. Modify your server’s home() function to use the home.html template. Provide it with three GET parameters: thing, height, and color."
   ]
  },
  {
   "cell_type": "code",
   "execution_count": null,
   "metadata": {
    "collapsed": false
   },
   "outputs": [],
   "source": []
  },
  {
   "cell_type": "code",
   "execution_count": null,
   "metadata": {
    "collapsed": false
   },
   "outputs": [],
   "source": []
  },
  {
   "cell_type": "code",
   "execution_count": null,
   "metadata": {
    "collapsed": true
   },
   "outputs": [],
   "source": []
  },
  {
   "cell_type": "code",
   "execution_count": null,
   "metadata": {
    "collapsed": false
   },
   "outputs": [],
   "source": []
  }
 ],
 "metadata": {
  "kernelspec": {
   "display_name": "Python 2",
   "language": "python",
   "name": "python2"
  },
  "language_info": {
   "codemirror_mode": {
    "name": "ipython",
    "version": 2
   },
   "file_extension": ".py",
   "mimetype": "text/x-python",
   "name": "python",
   "nbconvert_exporter": "python",
   "pygments_lexer": "ipython2",
   "version": "2.7.10"
  }
 },
 "nbformat": 4,
 "nbformat_minor": 0
}
